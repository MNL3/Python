{
 "cells": [
  {
   "cell_type": "markdown",
   "id": "99639d5c-1267-487d-810d-293af829e1fa",
   "metadata": {},
   "source": [
    "## Задание 2"
   ]
  },
  {
   "cell_type": "markdown",
   "id": "67ef96cd-881e-4ce3-8fbe-e813050b7123",
   "metadata": {
    "tags": []
   },
   "source": [
    "На складе лежат разные фрукты в разном количестве.\n",
    "Нужно написать функцию, которая на вход принимает любое количество названий фруктов и их количество, а возвращает общее количество фруктов на складе"
   ]
  },
  {
   "cell_type": "code",
   "execution_count": 5,
   "id": "5474acae-b502-4144-a0ea-67a08ed7ed1c",
   "metadata": {
    "tags": []
   },
   "outputs": [],
   "source": [
    "def fruits(**kwargs):\n",
    "    {print(f\" {key} - {values} шт\") for key, values in kwargs.items()}\n",
    "    return print(f' Всего фрутов: {sum(kwargs.values())}')"
   ]
  },
  {
   "cell_type": "code",
   "execution_count": 6,
   "id": "0b9545cf-831c-4e87-9cc0-56574fb905f2",
   "metadata": {
    "tags": []
   },
   "outputs": [
    {
     "name": "stdout",
     "output_type": "stream",
     "text": [
      " fruit1 - 65 шт\n",
      " fruit2 - 30 шт\n",
      " fruit3 - 69 шт\n",
      " fruit4 - 98 шт\n",
      " Всего фрутов: 262\n"
     ]
    }
   ],
   "source": [
    "fruits(\n",
    "    fruit1 = 65,\n",
    "    fruit2 = 30,\n",
    "    fruit3 = 69,\n",
    "    fruit4 = 98\n",
    ")"
   ]
  },
  {
   "cell_type": "markdown",
   "id": "812854c4-e8f0-4fa1-bc2f-72816ae25910",
   "metadata": {},
   "source": [
    "## Задание 3"
   ]
  },
  {
   "cell_type": "markdown",
   "id": "9f233447-99d4-41f4-b242-9b7b629efe5b",
   "metadata": {},
   "source": [
    "Дан список с затратами на рекламу. Но в данных есть ошибки, некоторые затраты имеют отрицательную величину. Удалите такие значения из списка и посчитайте суммарные затраты\n",
    "[100, 125, -90, 345, 655, -1, 0, 200]\n",
    "Используйте list comprehensions"
   ]
  },
  {
   "cell_type": "code",
   "execution_count": 17,
   "id": "a2c9ed45-f2ed-45e8-8e21-e2c0dd33f089",
   "metadata": {
    "tags": []
   },
   "outputs": [],
   "source": [
    "input_costs = [100, 125, -90, 345, 655, -1, 0, 200]"
   ]
  },
  {
   "cell_type": "code",
   "execution_count": 21,
   "id": "c129f7a1-183a-441b-8584-b29affcd08f4",
   "metadata": {
    "tags": []
   },
   "outputs": [
    {
     "name": "stdout",
     "output_type": "stream",
     "text": [
      "Updated costs: [100, 125, 345, 655, 200]\n",
      "Total costs: 1425\n"
     ]
    }
   ],
   "source": [
    "updated_costs = [i for i in input_costs if i > 0]\n",
    "\n",
    "print(f'Updated costs: {updated_costs}')\n",
    "\n",
    "print(f'Total costs: {sum(updated_costs)}')"
   ]
  },
  {
   "cell_type": "markdown",
   "id": "77b23307-a960-41b9-9fcf-9a43c187b01d",
   "metadata": {},
   "source": [
    "## Задание 4"
   ]
  },
  {
   "cell_type": "markdown",
   "id": "ed41053b-061a-4c2c-b0e2-cfbc4acd5102",
   "metadata": {
    "tags": []
   },
   "source": [
    "Даны два списка.\n",
    "\n",
    "Дата покупки\n",
    "['2021-09-14', '2021-12-15', '2021-09-08', '2021-12-05', '2021-10-09', '2021-09-30', '2021-12-22', '2021-11-29', '2021-12-24', '2021-11-26', '2021-10-27', '2021-12-18', '2021-11-09', '2021-11-23', '2021-09-27', '2021-10-02', '2021-12-27', '2021-09-20', '2021-12-13', '2021-11-01', '2021-11-09', '2021-12-06', '2021-12-08', '2021-10-09', '2021-10-31', '2021-09-30', '2021-11-09', '2021-12-13', '2021-10-26', '2021-12-09']\n",
    "\n",
    "Суммы покупок по датам\n",
    "[1270, 8413, 9028, 3703, 5739, 4095, 295, 4944, 5723, 3701, 4471, 651, 7037, 4274, 6275, 4988, 6930, 2971, 6592, 2004, 2822, 519, 3406, 2732, 5015, 2008, 316, 6333, 5700, 2887]"
   ]
  },
  {
   "cell_type": "markdown",
   "id": "91e07f12-7074-41c5-b090-c921f48eb849",
   "metadata": {},
   "source": [
    "### 4.1\n",
    "Найдите, какая выручка у компании в ноябре Используйте list comprehensions"
   ]
  },
  {
   "cell_type": "code",
   "execution_count": 34,
   "id": "a25993b1-8da1-4a4c-af86-9c896109cd88",
   "metadata": {
    "tags": []
   },
   "outputs": [],
   "source": [
    "date = ['2021-09-14', '2021-12-15', '2021-09-08', '2021-12-05', '2021-10-09', '2021-09-30', '2021-12-22', '2021-11-29', '2021-12-24', \n",
    "        '2021-11-26', '2021-10-27', '2021-12-18', '2021-11-09', '2021-11-23', '2021-09-27', '2021-10-02', '2021-12-27', '2021-09-20', \n",
    "        '2021-12-13', '2021-11-01', '2021-11-09', '2021-12-06', '2021-12-08', '2021-10-09', '2021-10-31', '2021-09-30', '2021-11-09', \n",
    "        '2021-12-13', '2021-10-26', '2021-12-09']\n",
    "\n",
    "revenue = [1270, 8413, 9028, 3703, 5739, 4095, 295, 4944, 5723, 3701, 4471, 651, 7037, 4274, 6275, 4988, 6930, 2971, 6592, 2004, 2822, \n",
    "           519, 3406, 2732, 5015, 2008, 316, 6333, 5700, 2887]\n"
   ]
  },
  {
   "cell_type": "code",
   "execution_count": 33,
   "id": "d094ab48-88b7-4225-9a84-51b693ff1fb4",
   "metadata": {
    "tags": []
   },
   "outputs": [
    {
     "name": "stdout",
     "output_type": "stream",
     "text": [
      "Revenue in November 25098\n"
     ]
    }
   ],
   "source": [
    "revenue_11 = (sum(revenue[i] for i in range(len(date)) if '-11-' in date[i]))\n",
    "\n",
    "print('Revenue in November', revenue_11)\n"
   ]
  },
  {
   "cell_type": "markdown",
   "id": "cad576ec-ff3c-4f67-b440-a03bb79f3deb",
   "metadata": {},
   "source": [
    "### 4.2\n",
    "Найдите выручку компании в зависимости от месяца\n",
    "Для этого напишите функцию, которая на вход принимает список с датами и список с выручкой, а на выходе словарь, где ключи - это месяцы, а значения - это выручка.\n",
    "Используйте аннотирование типов."
   ]
  },
  {
   "cell_type": "code",
   "execution_count": 40,
   "id": "0792f008-c41f-4986-b1c3-ee8524c94daa",
   "metadata": {
    "tags": []
   },
   "outputs": [
    {
     "data": {
      "text/plain": [
       "{'09': 25647, '12': 45452, '10': 28645, '11': 25098}"
      ]
     },
     "execution_count": 40,
     "metadata": {},
     "output_type": "execute_result"
    }
   ],
   "source": [
    "def sales_months(date: list, revenue: list) -> dict:\n",
    "    sales_dict = {}\n",
    "    for i in range(len(date)):\n",
    "        if date[i].split('-')[1] in sales_dict.keys():\n",
    "            sales_dict[date[i].split('-')[1]] += revenue[i]\n",
    "        else:\n",
    "            sales_dict[date[i].split('-')[1]] = revenue[i]\n",
    "    return sales_dict\n",
    "\n",
    "sales_months(date, revenue)"
   ]
  },
  {
   "cell_type": "code",
   "execution_count": null,
   "id": "75fa2d09-3859-4c69-b846-4d048a0a0a37",
   "metadata": {},
   "outputs": [],
   "source": []
  }
 ],
 "metadata": {
  "kernelspec": {
   "display_name": "Python 3 (ipykernel)",
   "language": "python",
   "name": "python3"
  },
  "language_info": {
   "codemirror_mode": {
    "name": "ipython",
    "version": 3
   },
   "file_extension": ".py",
   "mimetype": "text/x-python",
   "name": "python",
   "nbconvert_exporter": "python",
   "pygments_lexer": "ipython3",
   "version": "3.11.3"
  }
 },
 "nbformat": 4,
 "nbformat_minor": 5
}
